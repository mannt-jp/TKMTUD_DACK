{
 "cells": [
  {
   "cell_type": "code",
   "execution_count": 14,
   "metadata": {},
   "outputs": [],
   "source": [
    "import numpy as np\n",
    "import pandas as pd\n",
    "import matplotlib.pyplot as plt\n",
    "import copy\n",
    "from collections import Counter"
   ]
  },
  {
   "cell_type": "code",
   "execution_count": 50,
   "metadata": {},
   "outputs": [],
   "source": [
    "X = np.genfromtxt(\"X_train.csv\", delimiter=',', dtype=str)[1:]\n",
    "Y = np.genfromtxt(\"Y_train.csv\", delimiter=',', dtype=float)[1:,1:]\n",
    "transmission = copy.copy(X[:,3])\n",
    "odometer = copy.copy(X[:,5]).astype('int64')\n",
    "engineCapacity = np.genfromtxt(\"X_train.csv\", delimiter=',', dtype=float)[1:,9]\n",
    "photos = copy.copy(X[:,12]).astype('int64')\n",
    "features = np.genfromtxt(\"X_train.csv\", delimiter=',', dtype=bool)[1:,13:]\n",
    "num_features = np.sum(features, axis=1)"
   ]
  },
  {
   "cell_type": "code",
   "execution_count": null,
   "metadata": {},
   "outputs": [],
   "source": [
    "def transfered(X):\n",
    "    # add code here"
   ]
  },
  {
   "cell_type": "code",
   "execution_count": null,
   "metadata": {},
   "outputs": [],
   "source": [
    "def err_out(transfered_X, Y):\n",
    "    idx = 0\n",
    "    N = transfered_X.shape[0]\n",
    "    err = 0\n",
    "    for _ in range (10):\n",
    "        pre_idx = copy.copy(idx)\n",
    "        idx += N\n",
    "        X_test = copy.copy(transfered_X[pre_idx:idx,:])\n",
    "        Y_test = copy.copy(Y[pre_idx:i,:])\n",
    "        X_train = copy.copy(np.delete(transfered_X, [pre_idx:idx,:]))\n",
    "        Y_train = copy.copy(np.delete(Y, [pre_idx:idx,:]))\n",
    "        w = np.linalg.pinv(X_train) @ Y_train\n",
    "        err += np.mean(w.T @ X_test != Y_test) / 10\n",
    "    return err"
   ]
  }
 ],
 "metadata": {
  "kernelspec": {
   "display_name": "Python 3",
   "language": "python",
   "name": "python3"
  },
  "language_info": {
   "codemirror_mode": {
    "name": "ipython",
    "version": 3
   },
   "file_extension": ".py",
   "mimetype": "text/x-python",
   "name": "python",
   "nbconvert_exporter": "python",
   "pygments_lexer": "ipython3",
   "version": "3.7.7"
  }
 },
 "nbformat": 4,
 "nbformat_minor": 4
}

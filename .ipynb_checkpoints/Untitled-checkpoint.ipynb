{
 "cells": [
  {
   "cell_type": "code",
   "execution_count": 1,
   "metadata": {},
   "outputs": [],
   "source": [
    "import numpy as np\n",
    "import pandas as pd\n",
    "import matplotlib.pyplot as plt\n",
    "import copy\n",
    "from collections import Counter\n",
    "from sklearn.linear_model import LinearRegression\n",
    "from sklearn.model_selection import train_test_split"
   ]
  },
  {
   "cell_type": "code",
   "execution_count": 2,
   "metadata": {},
   "outputs": [],
   "source": [
    "X = np.genfromtxt(\"X_train.csv\", delimiter=',', dtype=str)[1:]\n",
    "Y = np.genfromtxt(\"Y_train.csv\", delimiter=',', dtype=float)[1:, 1]\n",
    "odometer = copy.copy(X[:, 5]).astype('int64')\n",
    "engineCapacity = np.genfromtxt(\"X_train.csv\", delimiter=',',\n",
    "                               dtype=float)[1:, 9]\n",
    "photos = copy.copy(X[:, 12]).astype('int64')\n",
    "features = np.genfromtxt(\"X_train.csv\", delimiter=',', dtype=bool)[1:, 13:]\n",
    "num_features = np.sum(features, axis=1)\n",
    "X = np.array(\n",
    "    [np.ones(X.shape[0]), odometer, engineCapacity, photos, num_features, Y]).T\n",
    "X = X[~np.isnan(X).any(axis=1)]\n",
    "Y = copy.copy(X[:, 5:])\n",
    "Y = Y.reshape((Y.shape[0], 1))\n",
    "X = np.delete(X, 4, 1)"
   ]
  },
  {
   "cell_type": "code",
   "execution_count": 5,
   "metadata": {},
   "outputs": [],
   "source": [
    "def err_out(X, Y):\n",
    "    err = 0\n",
    "    for i in range(10000):\n",
    "        X_train, X_test, Y_train, Y_test = train_test_split(X,\n",
    "                                                            Y,\n",
    "                                                            test_size=0.25,\n",
    "                                                            random_state=45)\n",
    "        w = np.linalg.pinv(X_train) @ Y_train\n",
    "        err += np.mean(np.abs(X_test @ w - Y_test), axis=0)[0] / 10000\n",
    "        print(\"Loop {0} done!\".format(i), end=\"\\r\")\n",
    "    return err"
   ]
  },
  {
   "cell_type": "code",
   "execution_count": 6,
   "metadata": {},
   "outputs": [
    {
     "name": "stdout",
     "output_type": "stream",
     "text": [
      "Loop 9999 done!"
     ]
    },
    {
     "data": {
      "text/plain": [
       "3.0386467770725006e-12"
      ]
     },
     "execution_count": 6,
     "metadata": {},
     "output_type": "execute_result"
    }
   ],
   "source": [
    "err_out(X, Y)"
   ]
  }
 ],
 "metadata": {
  "kernelspec": {
   "display_name": "Python 3",
   "language": "python",
   "name": "python3"
  },
  "language_info": {
   "codemirror_mode": {
    "name": "ipython",
    "version": 3
   },
   "file_extension": ".py",
   "mimetype": "text/x-python",
   "name": "python",
   "nbconvert_exporter": "python",
   "pygments_lexer": "ipython3",
   "version": "3.7.7"
  }
 },
 "nbformat": 4,
 "nbformat_minor": 4
}

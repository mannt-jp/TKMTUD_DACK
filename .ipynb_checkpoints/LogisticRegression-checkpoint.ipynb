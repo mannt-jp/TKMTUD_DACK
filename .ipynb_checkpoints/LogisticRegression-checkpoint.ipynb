{
 "cells": [
  {
   "cell_type": "markdown",
   "metadata": {},
   "source": [
    "# Phân lớp ảnh bằng mô hình Logistic Regression"
   ]
  },
  {
   "cell_type": "code",
   "execution_count": 1,
   "metadata": {},
   "outputs": [],
   "source": [
    "import numpy as np\n",
    "import matplotlib.pyplot as plt\n",
    "import cv2\n",
    "import copy\n",
    "from collections import Counter\n",
    "from sklearn.model_selection import train_test_split"
   ]
  },
  {
   "cell_type": "code",
   "execution_count": 2,
   "metadata": {},
   "outputs": [],
   "source": [
    "# Đọc dữ liệu\n",
    "train = np.genfromtxt(\"train.csv\", delimiter=',')[1:]\n",
    "Y = train[:, 0:1]\n",
    "X = train[:, 1:]"
   ]
  },
  {
   "cell_type": "code",
   "execution_count": 3,
   "metadata": {
    "code_folding": [
     0
    ]
   },
   "outputs": [],
   "source": [
    "def display_image(img):\n",
    "    plt.figure(figsize=(1, 1))\n",
    "    img = copy.copy(img.reshape((28, 28)))\n",
    "    plt.imshow(img, cmap='gray')\n",
    "    plt.axis('off')"
   ]
  },
  {
   "cell_type": "code",
   "execution_count": 4,
   "metadata": {},
   "outputs": [],
   "source": [
    "X_train, X_test, Y_train, Y_test = train_test_split(X,\n",
    "                                                    Y,\n",
    "                                                    test_size=0.25,\n",
    "                                                    random_state=45)"
   ]
  },
  {
   "cell_type": "code",
   "execution_count": 5,
   "metadata": {},
   "outputs": [],
   "source": [
    "X_train = np.hstack((np.ones((X_train.shape[0], 1)), X_train))\n",
    "X_test = np.hstack((np.ones((X_test.shape[0], 1)), X_test))"
   ]
  },
  {
   "cell_type": "code",
   "execution_count": 6,
   "metadata": {},
   "outputs": [],
   "source": [
    "def logistic_regression(X, Y, learning_rate=0.01):\n",
    "    outputs = sorted(Counter(Y.reshape(Y.shape[0])).keys())\n",
    "    W = np.zeros((X.shape[1], len(outputs)))\n",
    "    for output in outputs:\n",
    "        w = np.zeros((X.shape[1], 1))\n",
    "        N = X.shape[0]\n",
    "        while True:\n",
    "            binary_Y = np.where(Y == output, 1, -1)\n",
    "            previous_w = copy.copy(w)\n",
    "            rand_idxs = np.random.permutation(N)\n",
    "            for idx in rand_idxs:\n",
    "                x = X[idx].reshape(w.shape)\n",
    "                y = binary_Y[idx, 0]\n",
    "                gradient = -y * x / (1 + np.exp(y * w.T @ x))\n",
    "                w -= learning_rate * gradient\n",
    "            delta_w = previous_w - w\n",
    "            if np.sqrt(delta_w.T @ delta_w) < 0.01:\n",
    "                break\n",
    "        print(\"Output {0} done!\".format(int(output)), end=\"\\r\")\n",
    "        W[:, int(output):int(output + 1)] = w\n",
    "    return W"
   ]
  },
  {
   "cell_type": "code",
   "execution_count": 7,
   "metadata": {
    "scrolled": true
   },
   "outputs": [
    {
     "name": "stderr",
     "output_type": "stream",
     "text": [
      "C:\\ProgramData\\Anaconda3\\lib\\site-packages\\ipykernel_launcher.py:14: RuntimeWarning: overflow encountered in exp\n",
      "  \n"
     ]
    },
    {
     "name": "stdout",
     "output_type": "stream",
     "text": [
      "[[  -3.41508152   -3.15542757   -0.985      ...  -21.52584058\n",
      "   -19.55348074  -13.40425596]\n",
      " [ 171.431514     50.66008027   48.405      ... -185.43306972\n",
      "    63.04647198  281.27307139]\n",
      " [ 141.08706866   27.83334468   38.84       ...  204.77712914\n",
      "   136.25960903  325.00996869]\n",
      " ...\n",
      " [ -14.8405448    32.14100832  114.72000001 ...   37.32715307\n",
      "   108.31297858 -157.32968545]\n",
      " [ -41.9684037   -25.92216748  189.30500001 ...   80.10353384\n",
      "   238.40037392 -114.99183097]\n",
      " [ -67.16018748 -101.7023365   238.46500001 ... -124.08057282\n",
      "     0.86008662   58.16826447]]\n"
     ]
    }
   ],
   "source": [
    "W = logistic_regression(X_train, Y_train)\n",
    "print(W)"
   ]
  },
  {
   "cell_type": "code",
   "execution_count": 8,
   "metadata": {},
   "outputs": [
    {
     "name": "stderr",
     "output_type": "stream",
     "text": [
      "C:\\ProgramData\\Anaconda3\\lib\\site-packages\\ipykernel_launcher.py:3: RuntimeWarning: overflow encountered in exp\n",
      "  This is separate from the ipykernel package so we can avoid doing imports until\n"
     ]
    },
    {
     "data": {
      "text/plain": [
       "0.9594074074074074"
      ]
     },
     "execution_count": 8,
     "metadata": {},
     "output_type": "execute_result"
    }
   ],
   "source": [
    "np.mean(\n",
    "    Y_train.reshape(Y_train.shape[0]) == np.argmax(\n",
    "        1 / (1 + np.exp(-X_train @ W)), axis=1))"
   ]
  },
  {
   "cell_type": "code",
   "execution_count": 9,
   "metadata": {},
   "outputs": [
    {
     "name": "stderr",
     "output_type": "stream",
     "text": [
      "C:\\ProgramData\\Anaconda3\\lib\\site-packages\\ipykernel_launcher.py:2: RuntimeWarning: overflow encountered in exp\n",
      "  \n"
     ]
    },
    {
     "data": {
      "text/plain": [
       "0.9488888888888889"
      ]
     },
     "execution_count": 9,
     "metadata": {},
     "output_type": "execute_result"
    }
   ],
   "source": [
    "np.mean(\n",
    "    Y_test.reshape(Y_test.shape[0]) == np.argmax(1 / (1 + np.exp(-X_test @ W)),\n",
    "                                                 axis=1))"
   ]
  }
 ],
 "metadata": {
  "kernelspec": {
   "display_name": "Python 3",
   "language": "python",
   "name": "python3"
  },
  "language_info": {
   "codemirror_mode": {
    "name": "ipython",
    "version": 3
   },
   "file_extension": ".py",
   "mimetype": "text/x-python",
   "name": "python",
   "nbconvert_exporter": "python",
   "pygments_lexer": "ipython3",
   "version": "3.7.7"
  }
 },
 "nbformat": 4,
 "nbformat_minor": 4
}

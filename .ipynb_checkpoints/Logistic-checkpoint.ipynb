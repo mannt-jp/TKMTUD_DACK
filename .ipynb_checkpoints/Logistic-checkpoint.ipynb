{
 "cells": [
  {
   "cell_type": "code",
   "execution_count": 1,
   "metadata": {},
   "outputs": [],
   "source": [
    "import numpy as np\n",
    "import matplotlib.pyplot as plt\n",
    "import cv2\n",
    "from sklearn import linear_model\n",
    "from sklearn.model_selection import train_test_split\n",
    "from sklearn.linear_model import LogisticRegression"
   ]
  },
  {
   "cell_type": "code",
   "execution_count": 2,
   "metadata": {},
   "outputs": [],
   "source": [
    "# Đọc dữ liệu\n",
    "train = np.genfromtxt(\"train.csv\", delimiter=',')[1:]\n",
    "Y = train[:, 0:1]\n",
    "X = train[:, 1:].reshape((27000, 28, 28))"
   ]
  },
  {
   "cell_type": "code",
   "execution_count": 3,
   "metadata": {},
   "outputs": [],
   "source": [
    "def display_image(img):\n",
    "    '''\n",
    "    Display input image.\n",
    "    \n",
    "    Parameters\n",
    "    ----------\n",
    "    img : numpy.ndarray with shape=(h, w, 3) or shape=(h, w)\n",
    "            Shape=(h, w, 3) means that image in RGB color system\n",
    "            Shape=(h, w) means that image in grayscale\n",
    "        The image we want to display\n",
    "    '''\n",
    "    plt.figure(figsize=(1, 1))\n",
    "    if (len(img.shape) == 3):\n",
    "        plt.imshow(img)\n",
    "    else:\n",
    "        plt.imshow(img, cmap='gray')\n",
    "    plt.axis('off')"
   ]
  },
  {
   "cell_type": "code",
   "execution_count": 4,
   "metadata": {},
   "outputs": [
    {
     "data": {
      "image/png": "[encoded data removed]",
      "text/plain": [
       "<Figure size 72x72 with 1 Axes>"
      ]
     },
     "metadata": {},
     "output_type": "display_data"
    }
   ],
   "source": [
    "display_image(X[70])"
   ]
  },
  {
   "cell_type": "code",
   "execution_count": 5,
   "metadata": {},
   "outputs": [],
   "source": [
    "X_train, X_test, Y_train, Y_test = train_test_split(X,\n",
    "                                                    Y,\n",
    "                                                    test_size=0.3,\n",
    "                                                    random_state=0)"
   ]
  },
  {
   "cell_type": "code",
   "execution_count": 6,
   "metadata": {},
   "outputs": [],
   "source": [
    "X_train_2d = X_train.reshape(X_train.shape[0],\n",
    "                             X_train.shape[1] * X_train.shape[2])\n",
    "X_test_2d = X_test.reshape(X_test.shape[0], X_test.shape[1] * X_test.shape[2])\n",
    "X_train_2d = np.hstack((np.ones((X_train_2d.shape[0], 1)), X_train_2d))\n",
    "X_test_2d = np.hstack((np.ones((X_test_2d.shape[0], 1)), X_test_2d))\n",
    "Y_train = Y_train.reshape(Y_train.shape[0])\n",
    "Y_test = Y_test.reshape(Y_test.shape[0])"
   ]
  },
  {
   "cell_type": "code",
   "execution_count": 7,
   "metadata": {},
   "outputs": [
    {
     "name": "stdout",
     "output_type": "stream",
     "text": [
      "Accuracy on testing set: 100.0000 %\n"
     ]
    }
   ],
   "source": [
    "model = LogisticRegression(random_state=0,\n",
    "                           max_iter=1000000).fit(X_train_2d, Y_train)\n",
    "accuracy = model.score(X_test_2d, Y_test)\n",
    "print(\"Accuracy on testing set: {:.4f} %\".format(accuracy * 100))"
   ]
  },
  {
   "cell_type": "code",
   "execution_count": 8,
   "metadata": {},
   "outputs": [
    {
     "data": {
      "text/plain": [
       "array([[-1.01943336e-04,  9.65921615e-03,  6.30864065e-03, ...,\n",
       "        -1.78618277e-03, -4.88233961e-03, -5.46552951e-03],\n",
       "       [ 3.13690010e-05,  1.05287550e-03, -2.62352356e-03, ...,\n",
       "         4.83464824e-03, -4.36070112e-03, -8.53639201e-03],\n",
       "       [-3.18536735e-05,  1.80016293e-03,  1.97829576e-03, ...,\n",
       "         6.66257485e-03,  1.05156448e-02,  1.38088488e-02],\n",
       "       ...,\n",
       "       [ 2.55356559e-04, -7.90801844e-03, -6.62541062e-03, ...,\n",
       "         3.56917177e-03,  2.86932427e-03, -8.12996948e-03],\n",
       "       [-2.78555516e-05,  1.68654527e-03,  4.89497187e-03, ...,\n",
       "        -1.56256808e-02, -5.28007992e-03,  5.61250210e-03],\n",
       "       [ 2.27370719e-05,  1.99269076e-03,  2.56091870e-03, ...,\n",
       "         6.11142698e-05, -7.31958029e-03, -2.19394750e-03]])"
      ]
     },
     "execution_count": 8,
     "metadata": {},
     "output_type": "execute_result"
    }
   ],
   "source": [
    "w = model.coef_\n",
    "w"
   ]
  },
  {
   "cell_type": "code",
   "execution_count": 9,
   "metadata": {},
   "outputs": [
    {
     "data": {
      "text/plain": [
       "(24, 785)"
      ]
     },
     "execution_count": 9,
     "metadata": {},
     "output_type": "execute_result"
    }
   ],
   "source": [
    "w.shape"
   ]
  },
  {
   "cell_type": "code",
   "execution_count": 12,
   "metadata": {},
   "outputs": [
    {
     "name": "stderr",
     "output_type": "stream",
     "text": [
      "C:\\ProgramData\\Anaconda3\\lib\\site-packages\\ipykernel_launcher.py:4: DeprecationWarning: elementwise comparison failed; this will raise an error in the future.\n",
      "  after removing the cwd from sys.path.\n"
     ]
    },
    {
     "data": {
      "text/plain": [
       "0"
      ]
     },
     "execution_count": 12,
     "metadata": {},
     "output_type": "execute_result"
    }
   ],
   "source": [
    "Y_train_0 = np.where(Y_train == 0, 1, -1)\n",
    "Y_train_0 = Y_train_0.reshape((Y_train_0.shape[0], 1))\n",
    "w = np.ones((X_train.shape[1], 1))\n",
    "np.random.choice((np.where(Y_train_0 != np.sign(X_train @ w))[0]))"
   ]
  },
  {
   "cell_type": "code",
   "execution_count": null,
   "metadata": {},
   "outputs": [],
   "source": []
  }
 ],
 "metadata": {
  "kernelspec": {
   "display_name": "Python 3",
   "language": "python",
   "name": "python3"
  },
  "language_info": {
   "codemirror_mode": {
    "name": "ipython",
    "version": 3
   },
   "file_extension": ".py",
   "mimetype": "text/x-python",
   "name": "python",
   "nbconvert_exporter": "python",
   "pygments_lexer": "ipython3",
   "version": "3.7.7"
  }
 },
 "nbformat": 4,
 "nbformat_minor": 4
}

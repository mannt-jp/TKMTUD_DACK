{
 "cells": [
  {
   "cell_type": "markdown",
   "metadata": {},
   "source": [
    "# Phân lớp ảnh bằng mô hình Logistic Regression"
   ]
  },
  {
   "cell_type": "code",
   "execution_count": 1,
   "metadata": {},
   "outputs": [],
   "source": [
    "import numpy as np\n",
    "import matplotlib.pyplot as plt\n",
    "import cv2\n",
    "import copy\n",
    "from collections import Counter\n",
    "from sklearn.model_selection import train_test_split"
   ]
  },
  {
   "cell_type": "markdown",
   "metadata": {},
   "source": [
    "### Đọc dữ liệu"
   ]
  },
  {
   "cell_type": "code",
   "execution_count": 2,
   "metadata": {},
   "outputs": [],
   "source": [
    "# Đọc dữ liệu\n",
    "train = np.genfromtxt(\"train.csv\", delimiter=',')[1:]\n",
    "Y = train[:, 0:1]\n",
    "X = train[:, 1:]"
   ]
  },
  {
   "cell_type": "markdown",
   "metadata": {},
   "source": [
    "### Hiển thị ảnh"
   ]
  },
  {
   "cell_type": "code",
   "execution_count": 3,
   "metadata": {
    "code_folding": [
     0
    ]
   },
   "outputs": [],
   "source": [
    "def display_image(img):\n",
    "    plt.figure(figsize=(1, 1))\n",
    "    img = copy.copy(img.reshape((28, 28)))\n",
    "    plt.imshow(img, cmap='gray')\n",
    "    plt.axis('off')"
   ]
  },
  {
   "cell_type": "code",
   "execution_count": 4,
   "metadata": {},
   "outputs": [
    {
     "data": {
      "image/png": "[encoded data removed]",
      "text/plain": [
       "<Figure size 72x72 with 1 Axes>"
      ]
     },
     "metadata": {},
     "output_type": "display_data"
    }
   ],
   "source": [
    "display_image(X[np.random.choice(range(0, X.shape[0]))])"
   ]
  },
  {
   "cell_type": "markdown",
   "metadata": {},
   "source": [
    "### Tách tập dữ liệu thành tập train và tập test"
   ]
  },
  {
   "cell_type": "code",
   "execution_count": 5,
   "metadata": {},
   "outputs": [],
   "source": [
    "X_train, X_test, Y_train, Y_test = train_test_split(X,\n",
    "                                                    Y,\n",
    "                                                    test_size=0.25,\n",
    "                                                    random_state=45)"
   ]
  },
  {
   "cell_type": "code",
   "execution_count": 6,
   "metadata": {},
   "outputs": [],
   "source": [
    "X_train = np.hstack((np.ones((X_train.shape[0], 1)), X_train))\n",
    "X_test = np.hstack((np.ones((X_test.shape[0], 1)), X_test))"
   ]
  },
  {
   "cell_type": "markdown",
   "metadata": {},
   "source": [
    "### Huấn luyện mô hình bằng thuật toán Stochastic gradient descent"
   ]
  },
  {
   "cell_type": "code",
   "execution_count": 7,
   "metadata": {},
   "outputs": [],
   "source": [
    "def logistic_regression(X, Y, learning_rate=0.01):\n",
    "    outputs = sorted(Counter(Y.reshape(Y.shape[0])).keys())\n",
    "    W = np.zeros((X.shape[1], len(outputs) + 1))\n",
    "    for output in outputs:\n",
    "        w = np.zeros((X.shape[1], 1))\n",
    "        N = X.shape[0]\n",
    "        while True:\n",
    "            binary_Y = np.where(Y == output, 1, -1)\n",
    "            previous_w = copy.copy(w)\n",
    "            rand_idxs = np.random.permutation(N)\n",
    "            for idx in rand_idxs:\n",
    "                x = X[idx].reshape(w.shape)\n",
    "                y = binary_Y[idx, 0]\n",
    "                gradient = -y * x / (1 + np.exp(y * w.T @ x))\n",
    "                w -= learning_rate * gradient\n",
    "            delta_w = previous_w - w\n",
    "            if np.sqrt(delta_w.T @ delta_w) < 0.01:\n",
    "                break\n",
    "        print(\"Output {0} done!\".format(int(output)), end=\"\\r\")\n",
    "        W[:, int(output):int(output + 1)] = w\n",
    "    return W"
   ]
  },
  {
   "cell_type": "code",
   "execution_count": 8,
   "metadata": {
    "scrolled": true
   },
   "outputs": [
    {
     "name": "stderr",
     "output_type": "stream",
     "text": [
      "C:\\ProgramData\\Anaconda3\\lib\\site-packages\\ipykernel_launcher.py:14: RuntimeWarning: overflow encountered in exp\n",
      "  \n"
     ]
    },
    {
     "name": "stdout",
     "output_type": "stream",
     "text": [
      "[[  -3.786497     -2.88852925   -0.95507394 ...  -21.05512662\n",
      "   -13.88260196   -5.60503861]\n",
      " [ 175.66510927   42.32006399   47.57258006 ...   56.23357787\n",
      "   281.98875612  146.33596017]\n",
      " [ 144.68361681   23.70161158   36.87236081 ...  139.88086215\n",
      "   335.83500971  142.86088003]\n",
      " ...\n",
      " [ -22.14546065   42.2310087   118.80618094 ...  110.30674567\n",
      "  -150.70658777  -16.1605241 ]\n",
      " [ -27.15258235   -6.14771245  195.44633597 ...  260.56199327\n",
      "  -121.77027375 -136.64620525]\n",
      " [ -47.39007805  -93.16803381  235.04641882 ...    3.59511831\n",
      "    58.73405755   -9.01061029]]\n"
     ]
    }
   ],
   "source": [
    "W = logistic_regression(X_train, Y_train)\n",
    "print(W)"
   ]
  },
  {
   "cell_type": "markdown",
   "metadata": {},
   "source": [
    "### Độ chính xác trên tập train"
   ]
  },
  {
   "cell_type": "code",
   "execution_count": 9,
   "metadata": {},
   "outputs": [
    {
     "name": "stderr",
     "output_type": "stream",
     "text": [
      "C:\\ProgramData\\Anaconda3\\lib\\site-packages\\ipykernel_launcher.py:3: RuntimeWarning: overflow encountered in exp\n",
      "  This is separate from the ipykernel package so we can avoid doing imports until\n"
     ]
    },
    {
     "data": {
      "text/plain": [
       "1.0"
      ]
     },
     "execution_count": 9,
     "metadata": {},
     "output_type": "execute_result"
    }
   ],
   "source": [
    "np.mean(\n",
    "    Y_train.reshape(Y_train.shape[0]) == np.argmax(\n",
    "        1 / (1 + np.exp(-X_train @ W)), axis=1))"
   ]
  },
  {
   "cell_type": "markdown",
   "metadata": {},
   "source": [
    "### Độ chính xác trên tập test"
   ]
  },
  {
   "cell_type": "code",
   "execution_count": 10,
   "metadata": {},
   "outputs": [
    {
     "name": "stderr",
     "output_type": "stream",
     "text": [
      "C:\\ProgramData\\Anaconda3\\lib\\site-packages\\ipykernel_launcher.py:2: RuntimeWarning: overflow encountered in exp\n",
      "  \n"
     ]
    },
    {
     "data": {
      "text/plain": [
       "0.9900740740740741"
      ]
     },
     "execution_count": 10,
     "metadata": {},
     "output_type": "execute_result"
    }
   ],
   "source": [
    "np.mean(\n",
    "    Y_test.reshape(Y_test.shape[0]) == np.argmax(1 / (1 + np.exp(-X_test @ W)),\n",
    "                                                 axis=1))"
   ]
  }
 ],
 "metadata": {
  "kernelspec": {
   "display_name": "Python 3",
   "language": "python",
   "name": "python3"
  },
  "language_info": {
   "codemirror_mode": {
    "name": "ipython",
    "version": 3
   },
   "file_extension": ".py",
   "mimetype": "text/x-python",
   "name": "python",
   "nbconvert_exporter": "python",
   "pygments_lexer": "ipython3",
   "version": "3.7.7"
  }
 },
 "nbformat": 4,
 "nbformat_minor": 4
}

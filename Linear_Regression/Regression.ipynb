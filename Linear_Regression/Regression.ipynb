{
 "cells": [
  {
   "cell_type": "code",
   "execution_count": 1,
   "metadata": {},
   "outputs": [],
   "source": [
    "import numpy as np\n",
    "import pandas as pd\n",
    "import matplotlib.pyplot as plt\n",
    "import copy\n",
    "from collections import Counter\n",
    "from sklearn.model_selection import train_test_split"
   ]
  },
  {
   "cell_type": "code",
   "execution_count": 2,
   "metadata": {},
   "outputs": [],
   "source": [
    "X = np.genfromtxt(\"X_train.csv\", delimiter=',', dtype=str)[1:]\n",
    "Y = np.genfromtxt(\"Y_train.csv\", delimiter=',', dtype=float)[1:, 1]\n",
    "odometer = copy.copy(X[:, 5]).astype('int64')\n",
    "engineCapacity = np.genfromtxt(\"X_train.csv\", delimiter=',',\n",
    "                               dtype=float)[1:, 9]\n",
    "photos = copy.copy(X[:, 12]).astype('int64')\n",
    "features = np.genfromtxt(\"X_train.csv\", delimiter=',', dtype=bool)[1:, 13:]\n",
    "num_features = np.sum(features, axis=1)\n",
    "X = np.array(\n",
    "    [np.ones(X.shape[0]), odometer, engineCapacity, photos, num_features, Y]).T\n",
    "X = X[~np.isnan(X).any(axis=1)]\n",
    "Y = copy.copy(X[:, 5:])\n",
    "Y = Y.reshape((Y.shape[0], 1))\n",
    "X = np.delete(X, 4, 1)"
   ]
  },
  {
   "cell_type": "markdown",
   "metadata": {},
   "source": [
    "Transform $X \\rightarrow Z = (1, x_1^2, x_2^2, x_3^2, x_4^2, x_1x_2, x_2x_3, x_3x_4, x_4x_1)$"
   ]
  },
  {
   "cell_type": "code",
   "execution_count": 3,
   "metadata": {},
   "outputs": [],
   "source": [
    "def trans1(X):\n",
    "    Z = np.array([\n",
    "        X[:, 0],\n",
    "        X[:, 1]**2,\n",
    "        X[:, 2]**2,\n",
    "        X[:, 3]**2,\n",
    "        X[:, 4]**2,\n",
    "        X[:, 1] * X[:, 2],\n",
    "        X[:, 2] * X[:, 3],\n",
    "        X[:, 3] * X[:, 4],\n",
    "        X[:, 4] * X[:, 1],\n",
    "    ]).T\n",
    "    return Z"
   ]
  },
  {
   "cell_type": "code",
   "execution_count": 4,
   "metadata": {},
   "outputs": [],
   "source": [
    "Z1 = trans1(X)"
   ]
  },
  {
   "cell_type": "code",
   "execution_count": 5,
   "metadata": {},
   "outputs": [],
   "source": [
    "def linear_regression(Z, Y):\n",
    "    return np.linalg.pinv(Z) @ Y"
   ]
  },
  {
   "cell_type": "code",
   "execution_count": 6,
   "metadata": {},
   "outputs": [],
   "source": [
    "def avg_err(Z, Y):\n",
    "    avg_err_in = 0\n",
    "    avg_err_out = 0\n",
    "    for _ in range (10000):\n",
    "        Z_train, Z_test, Y_train, Y_test = train_test_split(Z, Y, shuffle=True)\n",
    "        w = linear_regression(Z_train, Y_train)\n",
    "        avg_err_in += np.mean(np.abs(Y_train - Z_train @ w)) / 10000\n",
    "        avg_err_out += np.mean(np.abs(Y_test - Z_test @ w)) / 10000\n",
    "    return avg_err_in, avg_err_out"
   ]
  },
  {
   "cell_type": "code",
   "execution_count": 7,
   "metadata": {},
   "outputs": [],
   "source": [
    "avg_err_in_1, avg_err_out_1 = avg_err(Z1, Y)"
   ]
  },
  {
   "cell_type": "code",
   "execution_count": 8,
   "metadata": {},
   "outputs": [
    {
     "data": {
      "text/plain": [
       "1069.5699417882126"
      ]
     },
     "execution_count": 8,
     "metadata": {},
     "output_type": "execute_result"
    }
   ],
   "source": [
    "avg_err_in_1"
   ]
  },
  {
   "cell_type": "code",
   "execution_count": 9,
   "metadata": {},
   "outputs": [
    {
     "data": {
      "text/plain": [
       "1070.6328973425902"
      ]
     },
     "execution_count": 9,
     "metadata": {},
     "output_type": "execute_result"
    }
   ],
   "source": [
    "avg_err_out_1"
   ]
  },
  {
   "cell_type": "code",
   "execution_count": null,
   "metadata": {},
   "outputs": [],
   "source": []
  }
 ],
 "metadata": {
  "kernelspec": {
   "display_name": "Python 3",
   "language": "python",
   "name": "python3"
  },
  "language_info": {
   "codemirror_mode": {
    "name": "ipython",
    "version": 3
   },
   "file_extension": ".py",
   "mimetype": "text/x-python",
   "name": "python",
   "nbconvert_exporter": "python",
   "pygments_lexer": "ipython3",
   "version": "3.7.7"
  }
 },
 "nbformat": 4,
 "nbformat_minor": 4
}

{
 "cells": [
  {
   "cell_type": "markdown",
   "metadata": {},
   "source": [
    "# Phân lớp ảnh bằng mô hình Logistic Regression"
   ]
  },
  {
   "cell_type": "code",
   "execution_count": 1,
   "metadata": {},
   "outputs": [],
   "source": [
    "import numpy as np\n",
    "import matplotlib.pyplot as plt\n",
    "import cv2\n",
    "import copy\n",
    "from collections import Counter\n",
    "from sklearn.model_selection import train_test_split"
   ]
  },
  {
   "cell_type": "markdown",
   "metadata": {},
   "source": [
    "### Đọc dữ liệu"
   ]
  },
  {
   "cell_type": "code",
   "execution_count": 2,
   "metadata": {},
   "outputs": [],
   "source": [
    "# Đọc dữ liệu\n",
    "train = np.genfromtxt(\"train.csv\", delimiter=',')[1:]\n",
    "Y = train[:, 0:1]\n",
    "X = train[:, 1:]"
   ]
  },
  {
   "cell_type": "markdown",
   "metadata": {},
   "source": [
    "### Hiển thị ảnh"
   ]
  },
  {
   "cell_type": "code",
   "execution_count": 3,
   "metadata": {
    "code_folding": []
   },
   "outputs": [],
   "source": [
    "def display_image(img):\n",
    "    plt.figure(figsize=(1, 1))\n",
    "    img_copy = copy.copy(img.reshape((28, 28)))\n",
    "    plt.imshow(img_copy, cmap='gray')\n",
    "    plt.axis('off')"
   ]
  },
  {
   "cell_type": "code",
   "execution_count": 4,
   "metadata": {},
   "outputs": [
    {
     "data": {
      "image/png": "[encoded data removed]",
      "text/plain": [
       "<Figure size 72x72 with 1 Axes>"
      ]
     },
     "metadata": {},
     "output_type": "display_data"
    }
   ],
   "source": [
    "display_image(X[np.random.choice(range(0, X.shape[0]))])"
   ]
  },
  {
   "cell_type": "markdown",
   "metadata": {},
   "source": [
    "### Tách tập dữ liệu thành tập train và tập test"
   ]
  },
  {
   "cell_type": "code",
   "execution_count": 5,
   "metadata": {},
   "outputs": [],
   "source": [
    "X_train, X_test, Y_train, Y_test = train_test_split(X / 255,\n",
    "                                                    Y,\n",
    "                                                    test_size=0.25,\n",
    "                                                    random_state=100)"
   ]
  },
  {
   "cell_type": "code",
   "execution_count": 6,
   "metadata": {},
   "outputs": [],
   "source": [
    "X_train = np.hstack((np.ones((X_train.shape[0], 1)), X_train))\n",
    "X_test = np.hstack((np.ones((X_test.shape[0], 1)), X_test))"
   ]
  },
  {
   "cell_type": "markdown",
   "metadata": {},
   "source": [
    "### Huấn luyện mô hình bằng thuật toán Stochastic gradient descent"
   ]
  },
  {
   "cell_type": "code",
   "execution_count": 7,
   "metadata": {},
   "outputs": [],
   "source": [
    "def logistic_regression(X, Y, learning_rate=0.1):\n",
    "    outputs = np.unique(Y)\n",
    "    W = np.zeros((X.shape[1], int(np.max(outputs)) + 1))\n",
    "    for output in outputs:\n",
    "        w = np.zeros((X.shape[1], 1))\n",
    "        N = X.shape[0]\n",
    "        while True:\n",
    "            binary_Y = np.where(Y == output, 1, -1)\n",
    "            previous_w = copy.copy(w)\n",
    "            rand_idxs = np.random.permutation(N)\n",
    "            for idx in rand_idxs:\n",
    "                x = X[idx].reshape(w.shape)\n",
    "                y = binary_Y[idx, 0]\n",
    "                gradient = -y * x / (1 + np.exp(y * w.T @ x))\n",
    "                w -= learning_rate * gradient\n",
    "            delta_w = previous_w - w\n",
    "            if np.sqrt(delta_w.T @ delta_w) < 0.01:\n",
    "                break\n",
    "        print(\"Output {0} done!\".format(int(output)), end=\"\\r\")\n",
    "        W[:, int(output):int(output + 1)] = w\n",
    "    return W"
   ]
  },
  {
   "cell_type": "code",
   "execution_count": 8,
   "metadata": {
    "scrolled": true
   },
   "outputs": [
    {
     "name": "stdout",
     "output_type": "stream",
     "text": [
      "[[-16.49032776 -16.84392403  -8.45423824 ... -23.67787566 -25.72099897\n",
      "  -21.23345541]\n",
      " [  4.91683482   1.34581507   1.84614887 ...  -0.463481     5.93717241\n",
      "    4.05999061]\n",
      " [  4.22931506   0.5950589    1.3701425  ...   1.63757795   7.91760584\n",
      "    3.98851696]\n",
      " ...\n",
      " [ -0.30778311   2.18674634   3.94908281 ...   2.90762337  -4.14251164\n",
      "   -0.83694095]\n",
      " [ -0.27548459   0.25466134   6.40130756 ...   4.54764952  -3.00997995\n",
      "   -3.50713375]\n",
      " [ -0.92620642  -2.04440032   7.70671548 ...   0.89819223   1.7953174\n",
      "    0.43637939]]\n"
     ]
    }
   ],
   "source": [
    "W = logistic_regression(X_train, Y_train)\n",
    "print(W)"
   ]
  },
  {
   "cell_type": "markdown",
   "metadata": {},
   "source": [
    "### Độ chính xác trên tập train"
   ]
  },
  {
   "cell_type": "code",
   "execution_count": 9,
   "metadata": {},
   "outputs": [
    {
     "data": {
      "text/plain": [
       "1.0"
      ]
     },
     "execution_count": 9,
     "metadata": {},
     "output_type": "execute_result"
    }
   ],
   "source": [
    "np.mean(\n",
    "    Y_train.reshape(Y_train.shape[0]) == np.argmax(\n",
    "        1 / (1 + np.exp(-X_train @ W)), axis=1))"
   ]
  },
  {
   "cell_type": "markdown",
   "metadata": {},
   "source": [
    "### Độ chính xác trên tập test"
   ]
  },
  {
   "cell_type": "code",
   "execution_count": 10,
   "metadata": {},
   "outputs": [
    {
     "data": {
      "text/plain": [
       "0.9962962962962963"
      ]
     },
     "execution_count": 10,
     "metadata": {},
     "output_type": "execute_result"
    }
   ],
   "source": [
    "np.mean(\n",
    "    Y_test.reshape(Y_test.shape[0]) == np.argmax(1 / (1 + np.exp(-X_test @ W)),\n",
    "                                                 axis=1))"
   ]
  },
  {
   "cell_type": "markdown",
   "metadata": {},
   "source": [
    "# Tuy nhiên đây chưa phải là con số đúng!"
   ]
  }
 ],
 "metadata": {
  "kernelspec": {
   "display_name": "Python 3",
   "language": "python",
   "name": "python3"
  },
  "language_info": {
   "codemirror_mode": {
    "name": "ipython",
    "version": 3
   },
   "file_extension": ".py",
   "mimetype": "text/x-python",
   "name": "python",
   "nbconvert_exporter": "python",
   "pygments_lexer": "ipython3",
   "version": "3.7.7"
  }
 },
 "nbformat": 4,
 "nbformat_minor": 4
}

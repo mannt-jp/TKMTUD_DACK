{
 "cells": [
  {
   "cell_type": "code",
   "execution_count": 1,
   "metadata": {},
   "outputs": [],
   "source": [
    "import numpy as np\n",
    "import pandas as pd\n",
    "import matplotlib.pyplot as plt\n",
    "import copy\n",
    "from collections import Counter"
   ]
  },
  {
   "cell_type": "code",
   "execution_count": 2,
   "metadata": {},
   "outputs": [],
   "source": [
    "X = np.genfromtxt(\"X_train.csv\", delimiter=',', dtype=str)[1:]\n",
    "Y = np.genfromtxt(\"Y_train.csv\", delimiter=',', dtype=float)[1:, 1:]\n",
    "#transmission = copy.copy(X[:, 3:4])\n",
    "odometer = copy.copy(X[:, 5:6]).astype('int64')\n",
    "engineCapacity = np.genfromtxt(\"X_train.csv\", delimiter=',',\n",
    "                               dtype=float)[1:, 9:10]\n",
    "photos = copy.copy(X[:, 12:13]).astype('int64')\n",
    "features = np.genfromtxt(\"X_train.csv\", delimiter=',', dtype=bool)[1:, 13:]\n",
    "num_features = np.sum(features, axis=1)\n",
    "X = np.ara"
   ]
  },
  {
   "cell_type": "markdown",
   "metadata": {},
   "source": [
    "Transform X -> Z = (1, x"
   ]
  }
 ],
 "metadata": {
  "kernelspec": {
   "display_name": "Python 3",
   "language": "python",
   "name": "python3"
  },
  "language_info": {
   "codemirror_mode": {
    "name": "ipython",
    "version": 3
   },
   "file_extension": ".py",
   "mimetype": "text/x-python",
   "name": "python",
   "nbconvert_exporter": "python",
   "pygments_lexer": "ipython3",
   "version": "3.7.7"
  }
 },
 "nbformat": 4,
 "nbformat_minor": 4
}
